{
 "metadata": {
  "language_info": {
   "codemirror_mode": {
    "name": "ipython",
    "version": 3
   },
   "file_extension": ".py",
   "mimetype": "text/x-python",
   "name": "python",
   "nbconvert_exporter": "python",
   "pygments_lexer": "ipython3",
   "version": "3.7.6-final"
  },
  "orig_nbformat": 2,
  "kernelspec": {
   "name": "Python 3.7.6 64-bit ('base': conda)",
   "display_name": "Python 3.7.6 64-bit ('base': conda)",
   "metadata": {
    "interpreter": {
     "hash": "cc5036801adc4e0048041d324a90088af803a7258427b7de46f904b1c9157750"
    }
   }
  }
 },
 "nbformat": 4,
 "nbformat_minor": 2,
 "cells": [
  {
   "source": [
    "# 1- Ejercicio\n",
    "\n",
    "Importa los paquetes `numpy` y `pandas`."
   ],
   "cell_type": "markdown",
   "metadata": {}
  },
  {
   "cell_type": "code",
   "execution_count": null,
   "metadata": {},
   "outputs": [],
   "source": []
  },
  {
   "source": [
    "# 2- Ejercicio\n",
    "\n",
    "Crea el siguiente `dataframe` y guardalo en tu directorio actual como `menu.csv`.\n",
    "\n",
    "|         |       Juan       | Ana      |\n",
    "|---------|:----------------:|----------|\n",
    "| Plato 1 | Ensaladilla Rusa | Menestra |\n",
    "| Plato 2 |      Merluza     | Entrecot |\n",
    "| Postre  |      Cuajada     | Natillas |"
   ],
   "cell_type": "markdown",
   "metadata": {}
  },
  {
   "cell_type": "code",
   "execution_count": null,
   "metadata": {},
   "outputs": [],
   "source": []
  },
  {
   "source": [
    "# 3- Ejercicio\n",
    "\n",
    "Primero de todo, abre el conjunto de datos `winemag-data-130k-v2.csv` y guardalo en la variable reviews. Luego, crea una nueva variable llamada `df` que contenga las columnas `country`, `province`, `region_1`, y `region_2` de los indices `0`, `1`, `10`, y `100`:\n",
    "\n",
    "![](https://i.imgur.com/FUCGiKP.png)"
   ],
   "cell_type": "markdown",
   "metadata": {}
  },
  {
   "cell_type": "code",
   "execution_count": null,
   "metadata": {},
   "outputs": [],
   "source": []
  },
  {
   "source": [
    "# 4- Ejercicio\n",
    "\n",
    "¿Cual es la mediana de la variable `points` en el conjunto de datos 'review'?"
   ],
   "cell_type": "markdown",
   "metadata": {}
  },
  {
   "cell_type": "code",
   "execution_count": null,
   "metadata": {},
   "outputs": [],
   "source": []
  },
  {
   "source": [
    "# 5- Ejercicio\n",
    "\n",
    "Vamos a estudiar la velocidad de las operaciones con el paquete `numpy`. Primero de todo, vamos a hacer la comparación con la operación de producto escalar:"
   ],
   "cell_type": "markdown",
   "metadata": {}
  },
  {
   "cell_type": "code",
   "execution_count": null,
   "metadata": {},
   "outputs": [],
   "source": [
    "# importamos el módulo datetime del paquete datetime\n",
    "from datetime import datetime\n",
    "\n",
    "# creamos dos arrays de una dimensión\n",
    "a = np.random.randn(100)\n",
    "b = np.random.randn(100)\n",
    "T= 100000\n",
    "\n",
    "# definimos la función de producto escalar\n",
    "def slow_dot_product(a, b):\n",
    "    result = 0\n",
    "    for e, f in zip(a, b):\n",
    "        result += e*f\n",
    "    return result\n",
    "\n",
    "# medimos el tiempo necesario para hacer T=100000 operaciones con la función definida\n",
    "t0 = datetime.now()\n",
    "for t in range(T):\n",
    "    slow_dot_product(a, b)\n",
    "dt1 = datetime.now() - t0\n",
    "\n",
    "# medimos el tiempo necesario para hacer T=100000 operaciones con la función dot de numpy\n",
    "t0 = datetime.now()\n",
    "for t in range(T):\n",
    "    np.dot(a, b)\n",
    "dt2 = datetime.now() - t0\n",
    "\n",
    "print(f\"dt1/dt2 = {dt1/dt2}\")"
   ]
  },
  {
   "source": [
    "Como podemos observar, hay una gran diferencia a favor de la función `dot` de `numpy`. Ahora, haz la misma comparación, pero para la operación de multiplicación entre matrices.\n",
    "\n",
    "Define dos matrices con números aleatrorios con la función `np.random.randn` que tengan las dimensiones correctas para que la multiplicación sea una operación factible."
   ],
   "cell_type": "markdown",
   "metadata": {}
  },
  {
   "cell_type": "code",
   "execution_count": null,
   "metadata": {},
   "outputs": [],
   "source": [
    "A = np.random.randn(?, ?)\n",
    "B = np.random.randn(?, ?)"
   ]
  },
  {
   "source": [
    "Define la función `slow_matrix_mul`. Recuerda en la multiplicación de matrizes, el valor de la fila `i` y columna `j` de la matriz de salida viene del producto escalar entre la fila `i` de la matriz `a` con la columna `j` de la matriz `b`."
   ],
   "cell_type": "markdown",
   "metadata": {}
  },
  {
   "cell_type": "code",
   "execution_count": null,
   "metadata": {},
   "outputs": [],
   "source": [
    "def slow_matrix_mul(a, b):\n",
    "    n = len(a)\n",
    "    m = len(b[0])\n",
    "    result = np.zeros((n, m))\n",
    "    # Rellena aquí la función\n",
    "    return result"
   ]
  },
  {
   "source": [
    "Ahora, compara los tiempos:"
   ],
   "cell_type": "markdown",
   "metadata": {}
  },
  {
   "cell_type": "code",
   "execution_count": null,
   "metadata": {},
   "outputs": [],
   "source": [
    "T = 100000\n",
    "\n",
    "t0 = datetime.now()\n",
    "for t in range(T):\n",
    "    slow_matrix_mul(A, B)\n",
    "dt1 = datetime.now() - t0\n",
    "\n",
    "t0 = datetime.now()\n",
    "for t in range(T):\n",
    "    np.dot(A, B)\n",
    "dt2 = datetime.now() - t0\n",
    "\n",
    "print(f\"dt1/dt2 = {dt1/dt2}\")"
   ]
  },
  {
   "source": [
    "Depende de las dimensiones de las matrizes `A` y `B`, y también el valor de la variable `T`; la ejecución de la celda anterior llevará un tiempo. Haz pruebas con diferentes valores para las dimensiones de 'A' y 'B'."
   ],
   "cell_type": "markdown",
   "metadata": {}
  }
 ]
}