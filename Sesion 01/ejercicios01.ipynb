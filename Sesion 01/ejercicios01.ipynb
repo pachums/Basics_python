{
 "cells": [
  {
   "cell_type": "markdown",
   "metadata": {},
   "source": [
    "### 1- Ejercicio"
   ]
  },
  {
   "cell_type": "code",
   "execution_count": 1,
   "metadata": {},
   "outputs": [],
   "source": [
    "pi = 3.14159 # aproximación\n",
    "diametro = 3"
   ]
  },
  {
   "cell_type": "markdown",
   "metadata": {},
   "source": [
    "Crea una variable llamada `radio` igual a la mitad del diametro:"
   ]
  },
  {
   "cell_type": "code",
   "execution_count": 2,
   "metadata": {},
   "outputs": [],
   "source": [
    "radio = diametro/2"
   ]
  },
  {
   "cell_type": "markdown",
   "metadata": {},
   "source": [
    "Crea una variable llamada `area` usando la formula del area para un circulo: pi x radio al cuadrado"
   ]
  },
  {
   "cell_type": "code",
   "execution_count": null,
   "metadata": {},
   "outputs": [],
   "source": []
  },
  {
   "cell_type": "markdown",
   "metadata": {},
   "source": [
    "### 2- Ejercicio"
   ]
  },
  {
   "cell_type": "code",
   "execution_count": null,
   "metadata": {},
   "outputs": [],
   "source": [
    "a = [1, 2, 3]\n",
    "b = [3, 2, 1]"
   ]
  },
  {
   "cell_type": "markdown",
   "metadata": {},
   "source": [
    "Intercambia los valores de las variables `a` y `b`. Es decir, haz que la variable `a` coja el valor de `b` y vicerversa.\n",
    "\n",
    "(Pista: Se puede hacer en una linea usando [esta idea](https://stackoverflow.com/questions/14836228/is-there-a-standardized-method-to-swap-two-variables-in-python))"
   ]
  },
  {
   "cell_type": "code",
   "execution_count": null,
   "metadata": {},
   "outputs": [],
   "source": []
  },
  {
   "cell_type": "markdown",
   "metadata": {},
   "source": [
    "### 3- Ejercicio\n",
    "\n",
    "Pon los parentesis necesarios ha la siguiente expresión para que el resultado sea 1."
   ]
  },
  {
   "cell_type": "code",
   "execution_count": null,
   "metadata": {},
   "outputs": [],
   "source": [
    "5 - 3 // 2"
   ]
  },
  {
   "cell_type": "markdown",
   "metadata": {},
   "source": [
    "Pon los parentesis necesarios ha la siguiente expresión para que el resultado sea 0."
   ]
  },
  {
   "cell_type": "code",
   "execution_count": null,
   "metadata": {},
   "outputs": [],
   "source": [
    "8 - 3 * 2 - 1 + 1"
   ]
  },
  {
   "cell_type": "markdown",
   "metadata": {},
   "source": [
    "### 4- Ejercicio\n",
    "\n",
    "Alicia, Jorge y Carolina han acordado repartirse los dulces que han recaudado en Hallowen por partes iguales. Por lo tanto, por el bien de su amistad, han decidido regalar los dules restantes. Por ejemplo, si recolectaran 91 dulces, cada uno recibiría 20 dulces y el 1 restante lo regalaría.\n",
    "\n",
    "Escribe una expresión aritmética para calcular cuantos dulces deberían regalar dependiendo de cuantos dulces hayan recogido."
   ]
  },
  {
   "cell_type": "code",
   "execution_count": null,
   "metadata": {},
   "outputs": [],
   "source": [
    "dulces_alicia = 121\n",
    "dulces_jorge = 77\n",
    "dulces_carolina = 109"
   ]
  },
  {
   "cell_type": "code",
   "execution_count": null,
   "metadata": {},
   "outputs": [],
   "source": [
    "para_regalar = -1 # Completa la expresión aquí"
   ]
  },
  {
   "cell_type": "markdown",
   "metadata": {},
   "source": [
    "### 5- Ejercicio\n",
    "\n",
    "Completa la función de Python para que devuelva el número que se le pasa redondeado a dos decimales. Por ejemplo:\n",
    "```\n",
    ">>> redondear(3.14159)\n",
    "3.14\n",
    "````\n",
    "\n",
    "(Pista: Python tiene una función incorporada llamada `round`)\n",
    "\n",
    "(`pass` es una palabra clave que no hace literalmente nada. La usamos como un marcador de posición porque después de comenzar un bloque de código, Python requiere al menos una línea de código)"
   ]
  },
  {
   "cell_type": "code",
   "execution_count": null,
   "metadata": {},
   "outputs": [],
   "source": [
    "def redondear(num):\n",
    "    pass"
   ]
  },
  {
   "cell_type": "markdown",
   "metadata": {},
   "source": [
    "### 6- Ejercicio\n",
    "\n",
    "La ayuda para `round` dice que `ndigits` (el segundo argumento) puede ser negativo.\n",
    "¿Qué crees que pasará cuando lo sea? Prueba algunos ejemplos en la siguiente celda.\n",
    "\n",
    "¿Puedes pensar en un caso en el que esto sea útil?"
   ]
  },
  {
   "cell_type": "code",
   "execution_count": null,
   "metadata": {},
   "outputs": [],
   "source": []
  },
  {
   "cell_type": "markdown",
   "metadata": {},
   "source": [
    "### 7- Ejercicio\n",
    "\n",
    "En el 4º ejercicio, los amigos que compartían caramelos intentaron repartir los caramelos a partes iguales. Por el bien de su amistad decidieron que los caramelos sobrantes los regalarían. Por ejemplo, si colectivamente reuniesen 91 caramelos, se llevarán 30 cada uno y regalarían uno.\n",
    "\n",
    "Abajo hay una simple función que calculará el número de caramelos a regalar para cualquier número de caramelos totales.\n",
    "\n",
    "Modifíquela para que opcionalmente tome un segundo argumento que represente el número de amigos entre los que se dividen los caramelos. Si no se proporciona un segundo argumento, debería asumir 3 amigos, como antes."
   ]
  },
  {
   "cell_type": "code",
   "execution_count": null,
   "metadata": {},
   "outputs": [],
   "source": [
    "def pa_regalar(total_dulces):\n",
    "    return total_dulces % 3"
   ]
  },
  {
   "cell_type": "markdown",
   "metadata": {},
   "source": [
    "### 8- Ejercicio\n",
    "\n",
    "Las siguientes expresiones de este ejercicio contienen algún error. Antes de ejecutarlos y que salga el mensaje de error intenta adivinar que pasará. Luego ejecutalos y mira los mensajes de error que salen (es importante entender los mensajes de error que nos devuelve Python). Para finalizar, corrige los errores y vuelve a ejecutar las celdas."
   ]
  },
  {
   "cell_type": "code",
   "execution_count": null,
   "metadata": {},
   "outputs": [],
   "source": [
    "redondear_(9.99999999)"
   ]
  },
  {
   "cell_type": "code",
   "execution_count": null,
   "metadata": {},
   "outputs": [],
   "source": [
    "x = -10\n",
    "y = 5\n",
    "smallest_abs = min(abs(x, y))"
   ]
  },
  {
   "cell_type": "code",
   "execution_count": null,
   "metadata": {},
   "outputs": [],
   "source": [
    "def f(x):\n",
    "    y = abs(x)\n",
    "return y\n",
    "\n",
    "print(f(5)="
   ]
  },
  {
   "cell_type": "markdown",
   "metadata": {},
   "source": [
    "### 9- Ejercicio\n",
    "\n",
    "Muchos lenguajes de programación tienen el signo disponible como una función incorporada. Python no, pero podemos definir el nuestro.\n",
    "\n",
    "En la celda de abajo, define una función llamada signo que toma un argumento numérico y devuelve -1 si es negativo, 1 si es positivo, y 0 si es 0."
   ]
  },
  {
   "cell_type": "code",
   "execution_count": null,
   "metadata": {},
   "outputs": [],
   "source": []
  },
  {
   "cell_type": "markdown",
   "metadata": {},
   "source": [
    "### 10- Ejercicio\n",
    "\n",
    "Hemos decidido añadir un mensaje de inicio a nuestra función `pa_regalar` del ejercicio anterior."
   ]
  },
  {
   "cell_type": "code",
   "execution_count": null,
   "metadata": {
    "tags": []
   },
   "outputs": [],
   "source": [
    "def pa_regalar(total_dulces):\n",
    "    print(\"Repartiendo\", total_dulces, \"dulces\")\n",
    "    return total_dulces % 3\n",
    "\n",
    "pa_regalar(91)"
   ]
  },
  {
   "cell_type": "markdown",
   "metadata": {},
   "source": [
    "¿Qué sucede si llamamos a la función con `total_dulces = 1`?"
   ]
  },
  {
   "cell_type": "code",
   "execution_count": null,
   "metadata": {
    "tags": []
   },
   "outputs": [],
   "source": [
    "pa_regalar(1)"
   ]
  },
  {
   "cell_type": "markdown",
   "metadata": {},
   "source": [
    "Aunque funciona correctamente, el mensaje no es correcto gramaticalmente. Si tan solo hay un caramelo, el mensaje debería de decir \"Repartiendo 1 dulce\" en vez de \"dulces\". Arreglalo."
   ]
  },
  {
   "cell_type": "code",
   "execution_count": null,
   "metadata": {
    "tags": []
   },
   "outputs": [],
   "source": [
    "def pa_regalar(total_dulces):\n",
    "    print(\"Repartiendo\", total_dulces, \"dulces\")\n",
    "    return total_dulces % 3\n",
    "\n",
    "pa_regalar(91)\n",
    "pa_regalar(1)"
   ]
  },
  {
   "cell_type": "markdown",
   "metadata": {},
   "source": [
    "### 11- Ejercicio\n",
    "\n",
    "Supongamos que al salir de casa quiero saber si voy bien preparado para el clima o no. Voy bien preparado si...\n",
    "  * llevo un paraguas...\n",
    "  * o si llueve suavemente (zirimiri) y llevo un gorro...\n",
    "  * en cualquier otro caso, estoy bien a menos que este lloviendo y sea un día laboral\n",
    "\n",
    "La función `preparado_para_clima` no funciona perfectamente. En algún caso devuelve el valor incorrecto. Encuentra la configuración para la que el resultado no es el que debería:"
   ]
  },
  {
   "cell_type": "code",
   "execution_count": null,
   "metadata": {
    "tags": []
   },
   "outputs": [],
   "source": [
    "def preparado_para_clima(paraguas, intensidad_lluvia, gorro, dia_laboral):\n",
    "    # No cambies el código de esta función, el objetivo es encontrar el bug, no arreglarlo\n",
    "    return paraguas or intensidad_lluvia < 5 and gorro or not intensidad_lluvia > 0 and dia_laboral\n",
    "\n",
    "# Cambia estos valores para encontrar el caso incorrecto\n",
    "paraguas = True\n",
    "intensidad_lluvia = 0.0\n",
    "gorro = True\n",
    "dia_laboral = True\n",
    "\n",
    "# Checkea la salida de la función\n",
    "actual = preparado_para_clima(paraguas, intensidad_lluvia, gorro, dia_laboral)\n",
    "print(actual)"
   ]
  },
  {
   "cell_type": "markdown",
   "metadata": {},
   "source": [
    "Ahora soluciona el error de la función y prueba que todo funcione bien:"
   ]
  },
  {
   "cell_type": "code",
   "execution_count": null,
   "metadata": {},
   "outputs": [],
   "source": [
    "def preparado_para_clima(paraguas, intensidad_lluvia, gorro, dia_laboral):\n",
    "    # ARRGLA el código\n",
    "    return paraguas or intensidad_lluvia < 5 and gorro or not intensidad_lluvia > 0 and dia_laboral"
   ]
  },
  {
   "cell_type": "code",
   "execution_count": null,
   "metadata": {
    "tags": []
   },
   "outputs": [],
   "source": [
    "# Cambia estos valores para ver que todo funciona bien\n",
    "paraguas = True\n",
    "intensidad_lluvia = 0.0\n",
    "gorro = True\n",
    "dia_laboral = True\n",
    "\n",
    "# Checkea la salida de la función\n",
    "actual = preparado_para_clima(paraguas, intensidad_lluvia, gorro, dia_laboral)\n",
    "print(actual)"
   ]
  },
  {
   "cell_type": "markdown",
   "metadata": {},
   "source": [
    "### 12- Ejercicio\n",
    "\n",
    "Las variables booleanas `ketchup`, `mostaza` y `cebolla` representan si un cliente quiere un determinado acompañamiento para su perrito caliente. Queremos implementar una serie de funciones booleanas que corresponden a algunas preguntas de sí o no sobre el pedido del cliente. Por ejemplo:"
   ]
  },
  {
   "cell_type": "code",
   "execution_count": null,
   "metadata": {},
   "outputs": [],
   "source": [
    "def sin_cebolla(ketchup, ):\n",
    "    \"\"\"Devuelve true si el cliente no quiere cebolla\n",
    "    \"\"\"\n",
    "    pass"
   ]
  },
  {
   "cell_type": "code",
   "execution_count": null,
   "metadata": {},
   "outputs": [],
   "source": [
    "def lo_quire_todo(ketchup, mostaza, cebolla):\n",
    "    \"\"\"Devuelve true si el cliente lo quiere con todo\n",
    "    \"\"\"\n",
    "    pass"
   ]
  },
  {
   "cell_type": "code",
   "execution_count": null,
   "metadata": {},
   "outputs": [],
   "source": [
    "def solo(ketchup, mostaza, cebolla):\n",
    "    \"\"\"Devuelve true si el cliente quiere un perrito sin nada\n",
    "    \"\"\"\n",
    "    pass"
   ]
  },
  {
   "cell_type": "code",
   "execution_count": null,
   "metadata": {},
   "outputs": [],
   "source": [
    "def solo_salsa(ketchup, mostaza, cebolla):\n",
    "    \"\"\"Devuelve true si el cliente quiere ketchup o mostaza, pero no los dos a la vez\n",
    "    \"\"\"\n",
    "    pass"
   ]
  },
  {
   "cell_type": "markdown",
   "metadata": {},
   "source": [
    "### 13- Ejercicio\n",
    "\n",
    "Completa la siguiente función para que devuelva el segundo elemento de la lista que recibe como entrada. Si la lista no tiene segundo elemento, devuelve `None`."
   ]
  },
  {
   "cell_type": "code",
   "execution_count": null,
   "metadata": {},
   "outputs": [],
   "source": [
    "def select_second(lista):\n",
    "    pass"
   ]
  },
  {
   "cell_type": "code",
   "execution_count": null,
   "metadata": {},
   "outputs": [],
   "source": [
    "lista = range(10)\n",
    "select_second(lista)"
   ]
  },
  {
   "cell_type": "markdown",
   "metadata": {},
   "source": [
    "### 14- Ejercicio\n",
    "\n",
    "Estás analizando los equipos deportivos.  Los miembros de cada equipo se almacenan en una lista. El entrenador es el primer nombre de la lista, el capitán es el segundo nombre de la lista, y los demás jugadores están en la lista después de eso. \n",
    "\n",
    "Estas listas se almacenan en otra lista, que comienza con el mejor equipo y continúa a través de la lista hasta el último equipo.  Completa la siguiente función para seleccionar el **capitán** del peor equipo."
   ]
  },
  {
   "cell_type": "code",
   "execution_count": null,
   "metadata": {},
   "outputs": [],
   "source": [
    "def capitan_ultimo_equipo(equipos):\n",
    "    pass"
   ]
  },
  {
   "cell_type": "code",
   "execution_count": null,
   "metadata": {},
   "outputs": [],
   "source": [
    "equipos = [['Paul', 'John', 'Ringo', 'George']]\n",
    "capitan_ultimo_equipo(equipos)"
   ]
  },
  {
   "cell_type": "markdown",
   "metadata": {},
   "source": [
    "### 15- Ejercicio\n",
    "\n",
    "La próxima iteración de Mario Kart incluirá un nuevo elemento extra-excitante, la *Concha Púrpura*. Cuando se usa, deforma el último lugar en el primer lugar y el primer lugar en el último. Completa la siguiente función para implementar el efecto de la *Concha Púrpura*."
   ]
  },
  {
   "cell_type": "code",
   "execution_count": null,
   "metadata": {},
   "outputs": [],
   "source": [
    "def concha_purpura(corredores):\n",
    "    pass"
   ]
  },
  {
   "cell_type": "code",
   "execution_count": null,
   "metadata": {},
   "outputs": [],
   "source": [
    "r = [\"Mario\", \"Bowser\", \"Luigi\"]\n",
    "concha_purpura(r)"
   ]
  },
  {
   "cell_type": "markdown",
   "metadata": {},
   "source": [
    "### 16- Ejercicio\n",
    "\n",
    "¿Cuál es la longitud de las siguientes listas? Rellena la variable `longitudes` con tus predicciones. (Intenta hacer una predicción para cada lista *sin* usar `len()` en ella.)"
   ]
  },
  {
   "cell_type": "code",
   "execution_count": null,
   "metadata": {},
   "outputs": [],
   "source": [
    "a = [1, 2, 3]\n",
    "b = [1, [2, 3]]\n",
    "c = []\n",
    "d = [1, 2, 3][1:]\n",
    "\n",
    "# Rellena la lista longitudes con tus 4 predicciones\n",
    "longitudes = []"
   ]
  },
  {
   "cell_type": "code",
   "execution_count": null,
   "metadata": {},
   "outputs": [],
   "source": [
    "longitudes == [len(a), len(b), len(c), len(d)]"
   ]
  },
  {
   "cell_type": "markdown",
   "metadata": {},
   "source": [
    "### 17- Ejercicio\n",
    "\n",
    "Estamos usando listas para registrar a la gente que asistió a nuestra fiesta y en qué orden llegaron. Por ejemplo, la siguiente lista representa una fiesta con 7 invitados, en la que Adela apareció primero y Ford fue el último en llegar:\n",
    "\n",
    "```\n",
    "    asistentes = ['Adela', 'Fleda', 'Owen', 'May', 'Mona', 'Gilbert', 'Ford']\n",
    "```\n",
    "\n",
    "Se considera que un invitado llega \"elegantemente tarde\" si llegó después de la mitad de los invitados de la fiesta. Sin embargo, no deben ser el último invitado (eso es ir demasiado lejos). En el ejemplo anterior, Mona y Gilbert son los únicos invitados que llegaron elegantemente tarde.\n",
    "\n",
    "Completa la siguiente función que toma una lista de los asistentes a la fiesta así como una persona, y nos dice si esa persona llega elegantemente tarde."
   ]
  },
  {
   "cell_type": "code",
   "execution_count": null,
   "metadata": {},
   "outputs": [],
   "source": [
    "def elegantemente_tarde(asistentes, nombre):\n",
    "    pass"
   ]
  },
  {
   "cell_type": "markdown",
   "metadata": {},
   "source": [
    "### 18- Ejercicio\n",
    "\n",
    "¿Cual crees que será la salida de la siguiente celda?"
   ]
  },
  {
   "cell_type": "code",
   "execution_count": null,
   "metadata": {},
   "outputs": [],
   "source": [
    "[1, 2, 3, 4] > 2"
   ]
  },
  {
   "cell_type": "markdown",
   "metadata": {},
   "source": [
    "R y Python tienen algunas bibliotecas (como numpy y pandas) que comparan cada elemento de la lista con el 2 (es decir, hacen una comparación \"por elementos\") y nos dan una lista de booleanos como `[Falso, Falso, Verdadero, Verdadero]`.\n",
    "\n",
    "Implementa una función que reproduzca este comportamiento, devolviendo una lista de booleans correspondiente a si el elemento correspondiente es mayor que n."
   ]
  },
  {
   "cell_type": "code",
   "execution_count": null,
   "metadata": {},
   "outputs": [],
   "source": [
    "def elementos_mayores(L, umbral):\n",
    "    \"\"\"Devuelve una lista con la misma longitud que L, donde el valor en el índice i es \n",
    "    True si L[i] es mayor que la varible umbral, y falso si no.\n",
    "    \"\"\"\n",
    "    pass"
   ]
  },
  {
   "cell_type": "code",
   "execution_count": null,
   "metadata": {},
   "outputs": [],
   "source": [
    "elementos_mayores([1, 2, 3, 4], 2)"
   ]
  },
  {
   "cell_type": "code",
   "execution_count": null,
   "metadata": {},
   "outputs": [],
   "source": [
    "elementos_mayores([10, -5, 3, 2, 0, -2], 0)"
   ]
  },
  {
   "cell_type": "markdown",
   "metadata": {},
   "source": [
    "### 19- Ejercicio\n",
    "\n",
    "Crea una función que dada una lista de comidas servidas durante algún período de tiempo, devuelve `True` si la misma comida ha sido servida dos días seguidos, y `False` de otra manera."
   ]
  },
  {
   "cell_type": "code",
   "execution_count": null,
   "metadata": {},
   "outputs": [],
   "source": [
    "def menu_aburrido(meals):\n",
    "    pass"
   ]
  },
  {
   "cell_type": "code",
   "execution_count": null,
   "metadata": {},
   "outputs": [],
   "source": [
    "menu_aburrido(['ensalada', 'pasta', 'humus', 'tortilla', 'pasta', 'verduras'])"
   ]
  },
  {
   "cell_type": "code",
   "execution_count": null,
   "metadata": {},
   "outputs": [],
   "source": [
    "menu_aburrido(['ensalada', 'filete', 'filete', 'tortilla', 'pasta', 'verduras'])"
   ]
  },
  {
   "cell_type": "markdown",
   "metadata": {},
   "source": [
    "### 20- Ejercicios\n",
    "\n",
    "Hay un dicho que dice: \"Los científicos de datos pasan el 80% de su tiempo limpiando datos, y el 20% de su tiempo quejándose de la limpieza de datos\". Veamos si puedes escribir una función para ayudar a limpiar los datos del código postal de los EE.UU. Dada una cadena, debería devolver si esa cadena representa o no un código postal válido. En este caso, un código postal válido es cualquier cadena que consista exactamente de 5 dígitos.\n",
    "\n",
    "SUGERENCIA: `str` tiene un método que será útil aquí para confirmar que nos están pasando un string con solo digitos. Usa `help(str)` para revisar una lista de métodos de `str`."
   ]
  },
  {
   "cell_type": "code",
   "execution_count": null,
   "metadata": {},
   "outputs": [],
   "source": [
    "def zip_valido(zip_code):\n",
    "    pass"
   ]
  },
  {
   "cell_type": "code",
   "execution_count": null,
   "metadata": {},
   "outputs": [],
   "source": [
    "zip_valido('51432')"
   ]
  },
  {
   "cell_type": "code",
   "execution_count": null,
   "metadata": {},
   "outputs": [],
   "source": [
    "zip_valido('4as31')"
   ]
  },
  {
   "cell_type": "code",
   "execution_count": null,
   "metadata": {},
   "outputs": [],
   "source": [
    "zip_valido('3')"
   ]
  },
  {
   "cell_type": "code",
   "execution_count": null,
   "metadata": {},
   "outputs": [],
   "source": [
    "zip_valido('37408917586')"
   ]
  }
 ],
 "metadata": {
  "kernelspec": {
   "display_name": "Python 3",
   "language": "python",
   "name": "python3"
  },
  "language_info": {
   "codemirror_mode": {
    "name": "ipython",
    "version": 3
   },
   "file_extension": ".py",
   "mimetype": "text/x-python",
   "name": "python",
   "nbconvert_exporter": "python",
   "pygments_lexer": "ipython3",
   "version": "3.8.6"
  }
 },
 "nbformat": 4,
 "nbformat_minor": 2
}
